{
  "cells": [
    {
      "cell_type": "markdown",
      "metadata": {
        "id": "cyHRvTplEETe"
      },
      "source": [
        "It clears backgraound unwanted files to giev better performance to the model"
      ]
    },
    {
      "cell_type": "code",
      "execution_count": null,
      "metadata": {
        "id": "aYSEVrvSbeHO"
      },
      "outputs": [],
      "source": [
        "!rm -rf ~/.cache"
      ]
    },
    {
      "cell_type": "markdown",
      "metadata": {
        "id": "lgcX5yUIClCB"
      },
      "source": [
        "It displays the GPU configuration"
      ]
    },
    {
      "cell_type": "code",
      "execution_count": null,
      "metadata": {
        "id": "xZZwhnIIChNe"
      },
      "outputs": [],
      "source": [
        "!nvidia-smi"
      ]
    },
    {
      "cell_type": "markdown",
      "metadata": {
        "id": "HUmCTPS_CuAQ"
      },
      "source": [
        "installing ultralytics module and importing YOLO"
      ]
    },
    {
      "cell_type": "code",
      "execution_count": null,
      "metadata": {
        "id": "wRaz7vArCxpF"
      },
      "outputs": [],
      "source": [
        "!pip install ultralytics\n",
        "from ultralytics import YOLO"
      ]
    },
    {
      "cell_type": "markdown",
      "metadata": {
        "id": "FB1gMFJ1C-TH"
      },
      "source": [
        "installing roboflow model"
      ]
    },
    {
      "cell_type": "code",
      "execution_count": null,
      "metadata": {
        "id": "E32hkvAHDVXa"
      },
      "outputs": [],
      "source": [
        "!pip install roboflow"
      ]
    },
    {
      "cell_type": "markdown",
      "metadata": {
        "id": "8yKQy_hfDDah"
      },
      "source": [
        "importing Dataset"
      ]
    },
    {
      "cell_type": "code",
      "execution_count": null,
      "metadata": {
        "id": "mHJREGfQAlqT"
      },
      "outputs": [],
      "source": [
        "\n",
        "!pip install roboflow\n",
        "\n",
        "from roboflow import Roboflow\n",
        "rf = Roboflow(api_key=\"z1otFNLxdyGH3kkY4rVm\")\n",
        "project = rf.workspace(\"daniil-wtchs\").project(\"smoke_on_the_forest\")\n",
        "version = project.version(4)\n",
        "dataset = version.download(\"yolov11\")"
      ]
    },
    {
      "cell_type": "markdown",
      "metadata": {
        "id": "a5awjisHDNpl"
      },
      "source": [
        "training of model by using .yaml file which contains test,train and validation images and print values"
      ]
    },
    {
      "cell_type": "code",
      "execution_count": null,
      "metadata": {
        "colab": {
          "base_uri": "https://localhost:8080/"
        },
        "id": "VJp7MN1mgfPR",
        "outputId": "b19d9977-6946-438e-bcec-ea0d255f3dc4"
      },
      "outputs": [
        {
          "output_type": "stream",
          "name": "stdout",
          "text": [
            "Ultralytics 8.3.76 🚀 Python-3.11.11 torch-2.5.1+cu124 CUDA:0 (Tesla T4, 15095MiB)\n",
            "\u001b[34m\u001b[1mengine/trainer: \u001b[0mtask=detect, mode=train, model=/content/yolo11m.pt, data=/content/smoke_on_the_forest-4/data.yaml, epochs=100, time=None, patience=100, batch=16, imgsz=640, save=True, save_period=-1, cache=False, device=cuda, workers=2, project=None, name=train4, exist_ok=False, pretrained=True, optimizer=Adam, verbose=True, seed=0, deterministic=True, single_cls=False, rect=False, cos_lr=False, close_mosaic=10, resume=False, amp=True, fraction=1.0, profile=False, freeze=None, multi_scale=False, overlap_mask=True, mask_ratio=4, dropout=0.0, val=True, split=val, save_json=False, save_hybrid=False, conf=None, iou=0.7, max_det=300, half=False, dnn=False, plots=True, source=None, vid_stride=1, stream_buffer=False, visualize=False, augment=False, agnostic_nms=False, classes=None, retina_masks=False, embed=None, show=False, save_frames=False, save_txt=False, save_conf=False, save_crop=False, show_labels=True, show_conf=True, show_boxes=True, line_width=None, format=torchscript, keras=False, optimize=False, int8=False, dynamic=False, simplify=True, opset=None, workspace=None, nms=False, lr0=0.001, lrf=0.01, momentum=0.937, weight_decay=0.0005, warmup_epochs=3.0, warmup_momentum=0.8, warmup_bias_lr=0.1, box=7.5, cls=0.5, dfl=1.5, pose=12.0, kobj=1.0, nbs=64, hsv_h=0.015, hsv_s=0.7, hsv_v=0.4, degrees=0.0, translate=0.1, scale=0.5, shear=0.0, perspective=0.0, flipud=0.0, fliplr=0.5, bgr=0.0, mosaic=1.0, mixup=0.0, copy_paste=0.0, copy_paste_mode=flip, auto_augment=randaugment, erasing=0.4, crop_fraction=1.0, cfg=None, tracker=botsort.yaml, save_dir=runs/detect/train4\n",
            "Overriding model.yaml nc=80 with nc=2\n",
            "\n",
            "                   from  n    params  module                                       arguments                     \n",
            "  0                  -1  1      1856  ultralytics.nn.modules.conv.Conv             [3, 64, 3, 2]                 \n",
            "  1                  -1  1     73984  ultralytics.nn.modules.conv.Conv             [64, 128, 3, 2]               \n",
            "  2                  -1  1    111872  ultralytics.nn.modules.block.C3k2            [128, 256, 1, True, 0.25]     \n",
            "  3                  -1  1    590336  ultralytics.nn.modules.conv.Conv             [256, 256, 3, 2]              \n",
            "  4                  -1  1    444928  ultralytics.nn.modules.block.C3k2            [256, 512, 1, True, 0.25]     \n",
            "  5                  -1  1   2360320  ultralytics.nn.modules.conv.Conv             [512, 512, 3, 2]              \n",
            "  6                  -1  1   1380352  ultralytics.nn.modules.block.C3k2            [512, 512, 1, True]           \n",
            "  7                  -1  1   2360320  ultralytics.nn.modules.conv.Conv             [512, 512, 3, 2]              \n",
            "  8                  -1  1   1380352  ultralytics.nn.modules.block.C3k2            [512, 512, 1, True]           \n",
            "  9                  -1  1    656896  ultralytics.nn.modules.block.SPPF            [512, 512, 5]                 \n",
            " 10                  -1  1    990976  ultralytics.nn.modules.block.C2PSA           [512, 512, 1]                 \n",
            " 11                  -1  1         0  torch.nn.modules.upsampling.Upsample         [None, 2, 'nearest']          \n",
            " 12             [-1, 6]  1         0  ultralytics.nn.modules.conv.Concat           [1]                           \n",
            " 13                  -1  1   1642496  ultralytics.nn.modules.block.C3k2            [1024, 512, 1, True]          \n",
            " 14                  -1  1         0  torch.nn.modules.upsampling.Upsample         [None, 2, 'nearest']          \n",
            " 15             [-1, 4]  1         0  ultralytics.nn.modules.conv.Concat           [1]                           \n",
            " 16                  -1  1    542720  ultralytics.nn.modules.block.C3k2            [1024, 256, 1, True]          \n",
            " 17                  -1  1    590336  ultralytics.nn.modules.conv.Conv             [256, 256, 3, 2]              \n",
            " 18            [-1, 13]  1         0  ultralytics.nn.modules.conv.Concat           [1]                           \n",
            " 19                  -1  1   1511424  ultralytics.nn.modules.block.C3k2            [768, 512, 1, True]           \n",
            " 20                  -1  1   2360320  ultralytics.nn.modules.conv.Conv             [512, 512, 3, 2]              \n",
            " 21            [-1, 10]  1         0  ultralytics.nn.modules.conv.Concat           [1]                           \n",
            " 22                  -1  1   1642496  ultralytics.nn.modules.block.C3k2            [1024, 512, 1, True]          \n",
            " 23        [16, 19, 22]  1   1412566  ultralytics.nn.modules.head.Detect           [2, [256, 512, 512]]          \n",
            "YOLO11m summary: 231 layers, 20,054,550 parameters, 20,054,534 gradients, 68.2 GFLOPs\n",
            "\n",
            "Transferred 643/649 items from pretrained weights\n",
            "\u001b[34m\u001b[1mTensorBoard: \u001b[0mStart with 'tensorboard --logdir runs/detect/train4', view at http://localhost:6006/\n",
            "Freezing layer 'model.23.dfl.conv.weight'\n",
            "\u001b[34m\u001b[1mAMP: \u001b[0mrunning Automatic Mixed Precision (AMP) checks...\n",
            "\u001b[34m\u001b[1mAMP: \u001b[0mchecks passed ✅\n"
          ]
        },
        {
          "output_type": "stream",
          "name": "stderr",
          "text": [
            "\u001b[34m\u001b[1mtrain: \u001b[0mScanning /content/smoke_on_the_forest-4/train/labels.cache... 5439 images, 91 backgrounds, 0 corrupt: 100%|██████████| 5439/5439 [00:00<?, ?it/s]\n"
          ]
        },
        {
          "output_type": "stream",
          "name": "stdout",
          "text": [
            "\u001b[34m\u001b[1malbumentations: \u001b[0mBlur(p=0.01, blur_limit=(3, 7)), MedianBlur(p=0.01, blur_limit=(3, 7)), ToGray(p=0.01, num_output_channels=3, method='weighted_average'), CLAHE(p=0.01, clip_limit=(1.0, 4.0), tile_grid_size=(8, 8))\n"
          ]
        },
        {
          "output_type": "stream",
          "name": "stderr",
          "text": [
            "\u001b[34m\u001b[1mval: \u001b[0mScanning /content/smoke_on_the_forest-4/valid/labels.cache... 519 images, 7 backgrounds, 0 corrupt: 100%|██████████| 519/519 [00:00<?, ?it/s]\n"
          ]
        },
        {
          "output_type": "stream",
          "name": "stdout",
          "text": [
            "Plotting labels to runs/detect/train4/labels.jpg... \n",
            "\u001b[34m\u001b[1moptimizer:\u001b[0m Adam(lr=0.001, momentum=0.937) with parameter groups 106 weight(decay=0.0), 113 weight(decay=0.0005), 112 bias(decay=0.0)\n",
            "\u001b[34m\u001b[1mTensorBoard: \u001b[0mmodel graph visualization added ✅\n",
            "Image sizes 640 train, 640 val\n",
            "Using 2 dataloader workers\n",
            "Logging results to \u001b[1mruns/detect/train4\u001b[0m\n",
            "Starting training for 100 epochs...\n",
            "\n",
            "      Epoch    GPU_mem   box_loss   cls_loss   dfl_loss  Instances       Size\n"
          ]
        },
        {
          "output_type": "stream",
          "name": "stderr",
          "text": [
            "      1/100      8.64G      1.939      2.516      1.908         67        640:  40%|████      | 136/340 [01:27<02:13,  1.53it/s]"
          ]
        }
      ],
      "source": [
        "from importlib.metadata import entry_points\n",
        "\n",
        "# Load the YOLO model\n",
        "model = YOLO('/content/yolo11m.pt')\n",
        "\n",
        "# Train the model with corrected parameters\n",
        "train_results = model.train(\n",
        "    data=\"/content/smoke_on_the_forest-4/data.yaml\",\n",
        "    epochs=100,  # Number of epochs\n",
        "    batch=16,  #  batch size\n",
        "    imgsz=640,  # image size\n",
        "    device='cuda',  # Device to use for training ('cuda' for GPU)\n",
        "    workers=2,  # Number of data loading workers\n",
        "    optimizer='Adam',  # Optimizer to use for training (Adam)\n",
        "    lr0=0.001,  # Initial learning rate for the optimizer\n",
        "    momentum=0.937,  # Momentum for the optimizer\n",
        "    weight_decay=0.0005,  # Weight decay for regularization\n",
        "    cache=False\n",
        ")\n",
        "\n",
        "# Print the results\n",
        "print(train_results)\n"
      ]
    },
    {
      "cell_type": "markdown",
      "source": [
        "Training Metrics Over Epochs"
      ],
      "metadata": {
        "id": "Vps8Mau0FroK"
      }
    },
    {
      "cell_type": "code",
      "source": [
        "!sudo apt-get update\n",
        "!sudo apt-get install locales-all\n",
        "!sudo locale-gen en_US.UTF-8\n",
        "!sudo update-locale LANG=en_US.UTF-8\n",
        "import locale\n",
        "locale.setlocale(locale.LC_ALL, 'en_US.UTF-8')"
      ],
      "metadata": {
        "id": "1EknGtlaspj4"
      },
      "execution_count": null,
      "outputs": []
    },
    {
      "cell_type": "code",
      "source": [
        "!pip install matplotlib\n",
        "from importlib.metadata import entry_points\n",
        "import matplotlib.pyplot as plt\n",
        "\n",
        "\n",
        "# Extract and display the metrics using results_dict()\n",
        "metrics = train_results  # Use results_dict() to get metrics\n",
        "precision = metrics['metrics/precision(B)']  # Access precision correctly\n",
        "recall = metrics['metrics/recall(B)']        # Access recall correctly\n",
        "f1_score = metrics['metrics/f1(B)']          # Access f1_score correctly\n",
        "# If you need to access accuracy:\n",
        "# Assuming mAP50-95 is a suitable proxy for accuracy\n",
        "accuracy = metrics.get('metrics/mAP50-95(B)', None)\n",
        "\n",
        "print(f\"Precision: {precision:.2f}\")\n",
        "print(f\"Recall: {recall:.2f}\")\n",
        "print(f\"F1 Score: {f1_score:.2f}\")\n",
        "if accuracy is not None:\n",
        "    print(f\"Accuracy (mAP50-95): {accuracy:.2f}\")\n",
        "else:\n",
        "    print(\"Accuracy (mAP50-95) not found in results.\")\n",
        "\n",
        "# Plot the metrics\n",
        "epochs = range(1, len(precision) + 1)\n",
        "\n",
        "plt.figure(figsize=(12, 8))\n",
        "\n",
        "plt.subplot(2, 2, 1)\n",
        "plt.plot(epochs, precision, 'b', label='Precision')\n",
        "plt.title('Precision over Epochs')\n",
        "plt.xlabel('Epochs')\n",
        "plt.ylabel('Precision')\n",
        "plt.legend()\n",
        "\n",
        "plt.subplot(2, 2, 2)\n",
        "plt.plot(epochs, recall, 'r', label='Recall')\n",
        "plt.title('Recall over Epochs')\n",
        "plt.xlabel('Epochs')\n",
        "plt.ylabel('Recall')\n",
        "plt.legend()\n",
        "\n",
        "plt.subplot(2, 2, 3)\n",
        "plt.plot(epochs, f1_score, 'g', label='F1 Score')\n",
        "plt.title('F1 Score over Epochs')\n",
        "plt.xlabel('Epochs')\n",
        "plt.ylabel('F1 Score')\n",
        "plt.legend()\n",
        "\n",
        "plt.subplot(2, 2, 4)\n",
        "if accuracy is not None:\n",
        "    plt.plot(epochs, accuracy, 'm', label='Accuracy')\n",
        "    plt.title('Accuracy (mAP50-95) over Epochs')\n",
        "    plt.xlabel('Epochs')\n",
        "    plt.ylabel('Accuracy (mAP50-95)')\n",
        "    plt.legend()\n",
        "else:\n",
        "    plt.text(0.5, 0.5, 'Accuracy (mAP50-95) not found', horizontalalignment='center', verticalalignment='center')\n",
        "\n",
        "plt.tight_layout()\n",
        "plt.show()\n"
      ],
      "metadata": {
        "id": "sO5cTPhCFd-f"
      },
      "execution_count": null,
      "outputs": []
    },
    {
      "cell_type": "markdown",
      "metadata": {
        "id": "yxFbW76UCQY9"
      },
      "source": [
        "it verify the image\n"
      ]
    },
    {
      "cell_type": "code",
      "execution_count": null,
      "metadata": {
        "id": "RVgx0R9bhFJO"
      },
      "outputs": [],
      "source": [
        "model = YOLO('/content/runs/detect/train2/weights/best.pt')\n",
        "results = model(\"/content/fire.15.png\", show=True)\n",
        "for result in results:\n",
        "    result.show()"
      ]
    },
    {
      "cell_type": "markdown",
      "metadata": {
        "id": "nozzNV-cCD1O"
      },
      "source": [
        "It detects the smoke and fire from the image .jpg format\n"
      ]
    },
    {
      "cell_type": "code",
      "execution_count": null,
      "metadata": {
        "id": "RDYCQvXj_DXc"
      },
      "outputs": [],
      "source": [
        "import cv2\n",
        "from ultralytics import YOLO\n",
        "\n",
        "model = YOLO('/content/runs/detect/train/weights/best.pt')\n",
        "\n",
        "# Loading the image by using OpenCV and check if it loaded successfully\n",
        "image = cv2.imread(\"/content/fire.15.png\")\n",
        "\n",
        "if image is not None:\n",
        "    # Image loaded successfully, proceed with prediction\n",
        "    results = model(image, show=True)  # Pass the loaded image to the model\n",
        "    for result in results:\n",
        "        result.show()\n",
        "else:\n",
        "    print(\"Error: Could not load the image.\")"
      ]
    },
    {
      "cell_type": "markdown",
      "metadata": {
        "id": "irktnfLZB17N"
      },
      "source": [
        "It detect the fire and smoke and converts the video into frames"
      ]
    },
    {
      "cell_type": "code",
      "execution_count": null,
      "metadata": {
        "id": "226TKXGb7x2e"
      },
      "outputs": [],
      "source": [
        "import cv2\n",
        "from IPython.display import display, Image\n",
        "import time\n",
        "model = YOLO('/content/runs/detect/train/weights/best.pt')# Loading the YOLO model\n",
        "video_path = '/content/11584958-uhd_3840_2160_30fps.mp4' #path of the video\n",
        "cap = cv2.VideoCapture(video_path)\n",
        "\n",
        "if not cap.isOpened():\n",
        "    print(\"Error opening video file.\")\n",
        "else:\n",
        "    while True:\n",
        "        ret, frame = cap.read()\n",
        "        if not ret:\n",
        "            break\n",
        "        # Perform detection on the current frame\n",
        "        results = model(frame)\n",
        "        annotated_frame = results[0].plot()\n",
        "        # Check if fire or smoke is detected\n",
        "        detections = results[0].pandas().xyxy\n",
        "        if not detections.empty:\n",
        "            # Save the annotated frame as an image\n",
        "            image_path = '/content/fire.15.png'\n",
        "            cv2.imwrite(image_path, annotated_frame)\n",
        "            # Convert the annotated frame to a format suitable for IPython.display.Image\n",
        "            _, encoded_img = cv2.imencode('.jpg', annotated_frame)\n",
        "            display(Image(data=encoded_img.tobytes()))\n",
        "        # Introduce a small delay to simulate video playback\n",
        "        time.sleep(0.05)  # Adjust the delay as needed\n",
        "    cap.release()\n"
      ]
    },
    {
      "cell_type": "markdown",
      "metadata": {
        "id": "VhHvER3D__cU"
      },
      "source": [
        "Sending SMS to the client"
      ]
    },
    {
      "cell_type": "code",
      "execution_count": null,
      "metadata": {
        "id": "JOI-52FZ86Ep",
        "colab": {
          "base_uri": "https://localhost:8080/"
        },
        "outputId": "118e9423-4ac6-42a3-b579-2a0514710368"
      },
      "outputs": [
        {
          "output_type": "stream",
          "name": "stdout",
          "text": [
            "Requirement already satisfied: twilio in /usr/local/lib/python3.11/dist-packages (9.4.6)\n",
            "Requirement already satisfied: requests>=2.0.0 in /usr/local/lib/python3.11/dist-packages (from twilio) (2.32.3)\n",
            "Requirement already satisfied: PyJWT<3.0.0,>=2.0.0 in /usr/local/lib/python3.11/dist-packages (from twilio) (2.10.1)\n",
            "Requirement already satisfied: aiohttp>=3.8.4 in /usr/local/lib/python3.11/dist-packages (from twilio) (3.11.12)\n",
            "Requirement already satisfied: aiohttp-retry>=2.8.3 in /usr/local/lib/python3.11/dist-packages (from twilio) (2.9.1)\n",
            "Requirement already satisfied: aiohappyeyeballs>=2.3.0 in /usr/local/lib/python3.11/dist-packages (from aiohttp>=3.8.4->twilio) (2.4.6)\n",
            "Requirement already satisfied: aiosignal>=1.1.2 in /usr/local/lib/python3.11/dist-packages (from aiohttp>=3.8.4->twilio) (1.3.2)\n",
            "Requirement already satisfied: attrs>=17.3.0 in /usr/local/lib/python3.11/dist-packages (from aiohttp>=3.8.4->twilio) (25.1.0)\n",
            "Requirement already satisfied: frozenlist>=1.1.1 in /usr/local/lib/python3.11/dist-packages (from aiohttp>=3.8.4->twilio) (1.5.0)\n",
            "Requirement already satisfied: multidict<7.0,>=4.5 in /usr/local/lib/python3.11/dist-packages (from aiohttp>=3.8.4->twilio) (6.1.0)\n",
            "Requirement already satisfied: propcache>=0.2.0 in /usr/local/lib/python3.11/dist-packages (from aiohttp>=3.8.4->twilio) (0.2.1)\n",
            "Requirement already satisfied: yarl<2.0,>=1.17.0 in /usr/local/lib/python3.11/dist-packages (from aiohttp>=3.8.4->twilio) (1.18.3)\n",
            "Requirement already satisfied: charset-normalizer<4,>=2 in /usr/local/lib/python3.11/dist-packages (from requests>=2.0.0->twilio) (3.4.1)\n",
            "Requirement already satisfied: idna<4,>=2.5 in /usr/local/lib/python3.11/dist-packages (from requests>=2.0.0->twilio) (3.10)\n",
            "Requirement already satisfied: urllib3<3,>=1.21.1 in /usr/local/lib/python3.11/dist-packages (from requests>=2.0.0->twilio) (2.3.0)\n",
            "Requirement already satisfied: certifi>=2017.4.17 in /usr/local/lib/python3.11/dist-packages (from requests>=2.0.0->twilio) (2025.1.31)\n",
            "SMcbfd933a0c2aaad254626bcd35a5acd6\n",
            "alert sms was sent successfully\n"
          ]
        }
      ],
      "source": [
        "!pip install twilio\n",
        "import twilio\n",
        "from twilio.rest import Client\n",
        "\n",
        "account_sid = 'AC73756feb6f1c4005dcd8bd0e384c58f6'\n",
        "auth_token = '294cdb4407fc75514ff01883e5e3173b'\n",
        "client = Client(account_sid, auth_token)\n",
        "\n",
        "message = client.messages.create(\n",
        "  from_='+15594148274',\n",
        "  body='Alert!! Frie/Smoke is Detected',\n",
        "  to='+917675939955'\n",
        ")\n",
        "\n",
        "print(message.sid)\n",
        "print(\"alert sms was sent successfully\")"
      ]
    }
  ],
  "metadata": {
    "accelerator": "GPU",
    "colab": {
      "gpuType": "T4",
      "provenance": []
    },
    "kernelspec": {
      "display_name": "Python 3",
      "name": "python3"
    },
    "language_info": {
      "name": "python"
    }
  },
  "nbformat": 4,
  "nbformat_minor": 0
}